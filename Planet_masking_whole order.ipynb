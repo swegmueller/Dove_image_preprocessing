{
 "cells": [
  {
   "cell_type": "markdown",
   "metadata": {},
   "source": [
    "Jan 2021\n",
    "\n",
    "Takes a Planet image and applies the accompanying UDM2 mask to mask \n",
    "clouds and shadows for an entire order.  \n",
    "\n",
    "Writes masked bands to a new .tif file.\n",
    "\n",
    "***Windows users: You will need to change the direction of the slashes in the filepaths***\n",
    "\n",
    "Resources used to develop this notebook: \n",
    "- https://github.com/planetlabs/notebooks/blob/master/jupyter-notebooks/udm/udm.ipynb\n",
    "- https://notebook.community/planetlabs/notebooks/jupyter-notebooks/udm2/udm2"
   ]
  },
  {
   "cell_type": "code",
   "execution_count": 1,
   "metadata": {},
   "outputs": [],
   "source": [
    "import os\n",
    "import rasterio\n",
    "import numpy as np"
   ]
  },
  {
   "cell_type": "code",
   "execution_count": 2,
   "metadata": {},
   "outputs": [],
   "source": [
    "# To mask a whole order:\n",
    "\n",
    "# Set to folder ending with 'PSScene4Band'\n",
    "main_dir = '...order_name/files/PSScene4Band'\n",
    "\n",
    "# If you used the Planet API or Explorer to clip images, set to \"True\"  It\n",
    "# affects the file names.\n",
    "clipped_to_AOI = False\n",
    "\n",
    "# Older images may not have a UDM2.  Set to 'False' if this is the case.\n",
    "udm2_available = True\n",
    "\n",
    "# Depending on needs, you may not want to use the UDM mask.  It can take out\n",
    "# a lot of pixels sometimes.\n",
    "use_udm = True"
   ]
  },
  {
   "cell_type": "code",
   "execution_count": 3,
   "metadata": {},
   "outputs": [],
   "source": [
    "# Change directory to location of files with individual images:\n",
    "os.chdir(main_dir)\n",
    "\n",
    "# Get a list of image names:\n",
    "files = os.listdir()\n",
    "filenames = []\n",
    "for file in files:\n",
    "    file = file + '_3B'\n",
    "    filenames.append(file)\n",
    "\n",
    "new_wrk_dirs = []\n",
    "for file in files:\n",
    "    new_dir = main_dir + '/' + file + '/analytic_sr_udm2'\n",
    "    new_wrk_dirs.append(new_dir)"
   ]
  },
  {
   "cell_type": "code",
   "execution_count": 4,
   "metadata": {},
   "outputs": [],
   "source": [
    "def load_udm(udm_filename):\n",
    "    '''Load single-band bit-encoded UDM as a 2D array.'''\n",
    "    with rasterio.open(udm_filename, 'r') as src:\n",
    "        udm = src.read()\n",
    "    return udm\n",
    "\n",
    "def udm_to_mask_all(udm):\n",
    "    '''Create a mask from the udm, masking all pixels with quality concerns''' \n",
    "    return udm != 0\n",
    "\n",
    "def load_udm2(udm2_filename):\n",
    "    '''Load multi-band UDM2 as a 3d array.'''\n",
    "    with rasterio.open(udm2_filename, 'r') as src:\n",
    "        udm2 = src.read()\n",
    "    return udm2\n",
    "\n",
    "def mask_cloud_shadow(udm2_array):\n",
    "    '''Create a mask from the udm2, masking all cloud and cloud shadow pixels'''\n",
    "    shadow_band = udm2_array[2,...]\n",
    "    cloud_band = udm2_array[5,...]\n",
    "    masked_pixels = np.logical_or(shadow_band == 1, cloud_band == 1)\n",
    "    return masked_pixels"
   ]
  },
  {
   "cell_type": "code",
   "execution_count": 5,
   "metadata": {},
   "outputs": [],
   "source": [
    "for num, folder in enumerate(new_wrk_dirs):\n",
    "    os.chdir(folder)\n",
    "    filename = filenames[num]\n",
    "\n",
    "    if clipped_to_AOI == True:\n",
    "        udm_filename = filename +'_AnalyticMS_DN_udm_clip.tif'\n",
    "        udm2_filename = filename + '_udm2_clip.tif'\n",
    "        image_filename = filename + '_AnalyticMS_SR_clip.tif'\n",
    "        masked_image_filepath = filename + '_AnalyticMS_SR_clip_masked.tif'\n",
    "    else:\n",
    "        udm_filename = filename +'_AnalyticMS_DN_udm.tif'\n",
    "        udm2_filename = filename + '_udm2.tif'\n",
    "        image_filename = filename + '_AnalyticMS_SR.tif'\n",
    "        masked_image_filepath = filename + '_AnalyticMS_SR_masked.tif'\n",
    "\n",
    "    udm = load_udm(udm_filename)    \n",
    "    udm_mask = udm_to_mask_all(udm)\n",
    "\n",
    "    if udm2_available == True:    \n",
    "        udm2 = load_udm2(udm2_filename)\n",
    "        udm2_mask = mask_cloud_shadow(udm2)\n",
    "\n",
    "    with rasterio.open(image_filename, 'r') as src1:\n",
    "            org_image = src1.read()\n",
    "\n",
    "    band_cnt = range(0, src1.count)\n",
    "\n",
    "    masked_band_list = []\n",
    "\n",
    "    for b in band_cnt:\n",
    "        band = org_image[b]\n",
    "\n",
    "        arr = np.zeros((np.shape(udm_mask)[0], np.shape(udm_mask)[1]),  dtype=np.uint16)\n",
    "\n",
    "        if udm2_available == True:\n",
    "            tmp = np.ma.masked_array(band, udm2_mask)\n",
    "            if use_udm == True:\n",
    "                tmp = np.ma.masked_array(tmp, udm_mask) \n",
    "        else:\n",
    "            tmp = np.ma.masked_array(band, udm_mask)\n",
    "\n",
    "        arr = np.ma.filled(tmp, 0)\n",
    "\n",
    "        masked_band_list.append(arr)\n",
    "\n",
    "    masked_band_array = np.array(masked_band_list)\n",
    "\n",
    "    src1 = rasterio.open(image_filename, 'r')\n",
    "\n",
    "    with rasterio.Env():\n",
    "        profile=src1.profile\n",
    "        profile.update({'nodata': 0})\n",
    "        with rasterio.open(masked_image_filepath, 'w',\n",
    "                           **profile) as dst:\n",
    "            dst.write(masked_band_array)"
   ]
  },
  {
   "cell_type": "code",
   "execution_count": null,
   "metadata": {},
   "outputs": [],
   "source": []
  }
 ],
 "metadata": {
  "kernelspec": {
   "display_name": "Python 3",
   "language": "python",
   "name": "python3"
  },
  "language_info": {
   "codemirror_mode": {
    "name": "ipython",
    "version": 3
   },
   "file_extension": ".py",
   "mimetype": "text/x-python",
   "name": "python",
   "nbconvert_exporter": "python",
   "pygments_lexer": "ipython3",
   "version": "3.7.7"
  }
 },
 "nbformat": 4,
 "nbformat_minor": 4
}
